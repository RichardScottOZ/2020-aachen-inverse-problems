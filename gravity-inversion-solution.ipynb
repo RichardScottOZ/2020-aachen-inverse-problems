{
 "cells": [
  {
   "cell_type": "markdown",
   "metadata": {},
   "source": [
    "# Building a non-linear gravity inversion from scratch (almost)\n",
    "\n",
    "In this notebook, we'll build a non-linear gravity inversion to estimate the relief of a sedimentary basin. We'll implement smoothness regularization and see its effects on the solution. We'll also see how we can break the inversion by adding random noise, abusing regularization, and breaking the underlying assumptions."
   ]
  },
  {
   "cell_type": "markdown",
   "metadata": {},
   "source": [
    "## Imports\n",
    "\n",
    "We'll use the basic scientific Python stack for this tutorial plus a custom module with the forward modelling function (based on the code from the [Harmonica](https://github.com/fatiando/harmonica) library)."
   ]
  },
  {
   "cell_type": "code",
   "execution_count": 1,
   "metadata": {},
   "outputs": [],
   "source": [
    "import numpy as np\n",
    "import scipy as sp\n",
    "import matplotlib.pyplot as plt"
   ]
  },
  {
   "cell_type": "markdown",
   "metadata": {},
   "source": [
    "This is a little trick to make the resolution of the matplotlib figures better for larger screens."
   ]
  },
  {
   "cell_type": "code",
   "execution_count": 38,
   "metadata": {},
   "outputs": [],
   "source": [
    "plt.rc(\"figure\", dpi=150)"
   ]
  },
  {
   "cell_type": "markdown",
   "metadata": {},
   "source": [
    "## Assumption\n",
    "\n",
    "Here are some assumptions we'll work with:\n",
    "\n",
    "1. The basin is much larger in the y-dimension so we'll assume it's infinite (reducing the problem to 2D)\n",
    "1. The gravity disturbance is entirely due to the sedimentary basin\n",
    "1. The top of the basin is a flat surface at $z=0$\n",
    "1. The data are measured at a constant height of $z=0$"
   ]
  },
  {
   "cell_type": "markdown",
   "metadata": {},
   "source": [
    "## Making synthetic data\n",
    "\n",
    "First, we'll explore the forward modelling function and create some synthetic data."
   ]
  },
  {
   "cell_type": "code",
   "execution_count": null,
   "metadata": {},
   "outputs": [],
   "source": [
    "def forward_model(depths, basin_boundaries, density, x):\n",
    "    \"\"\"\n",
    "    \"\"\"\n",
    "    # Computation points\n",
    "    easting = x\n",
    "    northing = np.zeros_like(x)\n",
    "    upward = np.zeros_like(x)\n",
    "    \n",
    "    \n",
    "     # Iterate over computation points and prisms\n",
    "    for l in range(coordinates[0].size):\n",
    "        for m in range(prisms.shape[0]):\n",
    "            # Iterate over the prism boundaries to compute the result of the\n",
    "            # integration (see Nagy et al., 2000)\n",
    "            for i in range(2):\n",
    "                for j in range(2):\n",
    "                    for k in range(2):\n",
    "                        shift_east = prisms[m, 1 - i]\n",
    "                        shift_north = prisms[m, 3 - j]\n",
    "                        shift_upward = prisms[m, 5 - k]\n",
    "                        # If i, j or k is 1, the shift_* will refer to the\n",
    "                        # lower boundary, meaning the corresponding term should\n",
    "                        # have a minus sign\n",
    "                        out[l] += (\n",
    "                            density[m]\n",
    "                            * (-1) ** (i + j + k)\n",
    "                            * kernel(\n",
    "                                shift_east - coordinates[0][l],\n",
    "                                shift_north - coordinates[1][l],\n",
    "                                shift_upward - coordinates[2][l],\n",
    "                            )\n",
    "    \n",
    "    si2mgal = 1e5\n",
    "    # The gravitational constant in SI units\n",
    "    GRAVITATIONAL_CONST = 0.00000000006673\n",
    "    result *= GRAVITATIONAL_CONST * density * si2mgal\n",
    "    return result "
   ]
  },
  {
   "cell_type": "code",
   "execution_count": 3,
   "metadata": {},
   "outputs": [],
   "source": [
    "def make_prisms(depths, basin_boundaries):\n",
    "    \"\"\"\n",
    "    Generate a list of 3D prisms from the depths and boundaries.\n",
    "    \"\"\"\n",
    "    boundaries = np.linspace(*basin_boundaries, depths.size + 1)\n",
    "    infinity = np.full_like(depths, 500e3)\n",
    "    prisms = np.transpose([\n",
    "        boundaries[:-1],      # east\n",
    "        boundaries[1:],       # west\n",
    "        -infinity,            # south\n",
    "        infinity,             # north\n",
    "        -depths,              # bottom\n",
    "        np.zeros_like(depths) # top\n",
    "    ])\n",
    "    return prisms"
   ]
  },
  {
   "cell_type": "code",
   "execution_count": 45,
   "metadata": {},
   "outputs": [],
   "source": [
    "def plot_prisms(\n",
    "    depths, basin_boundaries, ax=None, color=\"#00000000\", edgecolor=\"black\", linewidth=1, label=None, figsize=(9, 3.5)\n",
    "):\n",
    "    \"\"\"\n",
    "    Plot the prism model using matplotlib.\n",
    "    \"\"\"\n",
    "    # Create lines with the outline of the prisms\n",
    "    boundaries = np.linspace(*basin_boundaries, depths.size + 1)    \n",
    "    x = [boundaries[0]]\n",
    "    y = [0]\n",
    "    for i in range(depths.size):\n",
    "        x.extend([boundaries[i], boundaries[i + 1]])\n",
    "        y.extend([depths[i], depths[i]])\n",
    "    x.append(boundaries[-1])\n",
    "    y.append(0)\n",
    "    x = np.array(x) / 1000\n",
    "    y = np.array(y) / 1000\n",
    "    # Plot the outline with optional filling\n",
    "    if ax is None:\n",
    "        fig = plt.figure(figsize=figsize)\n",
    "        ax = plt.subplot(111)\n",
    "        ax.set_xlabel(\"x [km]\")\n",
    "        ax.set_ylabel(\"depth [km]\")\n",
    "    ax.fill_between(x, y, color=color, edgecolor=edgecolor, linewidth=linewidth, label=label)\n",
    "    ax.set_ylim(max(y)*1.05, 0)\n",
    "    return ax"
   ]
  },
  {
   "cell_type": "code",
   "execution_count": 46,
   "metadata": {},
   "outputs": [
    {
     "data": {
      "text/plain": [
       "<AxesSubplot:xlabel='x [km]', ylabel='depth [km]'>"
      ]
     },
     "execution_count": 46,
     "metadata": {},
     "output_type": "execute_result"
    },
    {
     "data": {
      "image/png": "[encoded data removed]",
      "text/plain": [
       "<Figure size 1350x525 with 1 Axes>"
      ]
     },
     "metadata": {
      "needs_background": "light"
     },
     "output_type": "display_data"
    }
   ],
   "source": [
    "plot_prisms(depths, basin_boundaries)"
   ]
  },
  {
   "cell_type": "code",
   "execution_count": null,
   "metadata": {},
   "outputs": [],
   "source": []
  }
 ],
 "metadata": {
  "kernelspec": {
   "display_name": "Python [conda env:default] *",
   "language": "python",
   "name": "conda-env-default-py"
  },
  "language_info": {
   "codemirror_mode": {
    "name": "ipython",
    "version": 3
   },
   "file_extension": ".py",
   "mimetype": "text/x-python",
   "name": "python",
   "nbconvert_exporter": "python",
   "pygments_lexer": "ipython3",
   "version": "3.8.0"
  }
 },
 "nbformat": 4,
 "nbformat_minor": 4
}
